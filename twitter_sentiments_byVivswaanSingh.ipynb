{
 "cells": [
  {
   "cell_type": "code",
   "execution_count": 1,
   "id": "b0de0bea",
   "metadata": {},
   "outputs": [
    {
     "name": "stdout",
     "output_type": "stream",
     "text": [
      "Shape of the dataframe:  (7613, 2)\n"
     ]
    },
    {
     "data": {
      "text/html": [
       "<div>\n",
       "<style scoped>\n",
       "    .dataframe tbody tr th:only-of-type {\n",
       "        vertical-align: middle;\n",
       "    }\n",
       "\n",
       "    .dataframe tbody tr th {\n",
       "        vertical-align: top;\n",
       "    }\n",
       "\n",
       "    .dataframe thead th {\n",
       "        text-align: right;\n",
       "    }\n",
       "</style>\n",
       "<table border=\"1\" class=\"dataframe\">\n",
       "  <thead>\n",
       "    <tr style=\"text-align: right;\">\n",
       "      <th></th>\n",
       "      <th>tweets</th>\n",
       "      <th>target</th>\n",
       "    </tr>\n",
       "  </thead>\n",
       "  <tbody>\n",
       "    <tr>\n",
       "      <th>0</th>\n",
       "      <td>Our Deeds are the Reason of this #earthquake M...</td>\n",
       "      <td>1</td>\n",
       "    </tr>\n",
       "    <tr>\n",
       "      <th>1</th>\n",
       "      <td>Forest fire near La Ronge Sask. Canada</td>\n",
       "      <td>1</td>\n",
       "    </tr>\n",
       "    <tr>\n",
       "      <th>2</th>\n",
       "      <td>All residents asked to 'shelter in place' are ...</td>\n",
       "      <td>1</td>\n",
       "    </tr>\n",
       "    <tr>\n",
       "      <th>3</th>\n",
       "      <td>13,000 people receive #wildfires evacuation or...</td>\n",
       "      <td>1</td>\n",
       "    </tr>\n",
       "    <tr>\n",
       "      <th>4</th>\n",
       "      <td>Just got sent this photo from Ruby #Alaska as ...</td>\n",
       "      <td>1</td>\n",
       "    </tr>\n",
       "  </tbody>\n",
       "</table>\n",
       "</div>"
      ],
      "text/plain": [
       "                                              tweets  target\n",
       "0  Our Deeds are the Reason of this #earthquake M...       1\n",
       "1             Forest fire near La Ronge Sask. Canada       1\n",
       "2  All residents asked to 'shelter in place' are ...       1\n",
       "3  13,000 people receive #wildfires evacuation or...       1\n",
       "4  Just got sent this photo from Ruby #Alaska as ...       1"
      ]
     },
     "execution_count": 1,
     "metadata": {},
     "output_type": "execute_result"
    }
   ],
   "source": [
    "import pandas as pd\n",
    "import numpy as np\n",
    "import matplotlib.pyplot as plt\n",
    "import math\n",
    "import seaborn as sns\n",
    "df=pd.read_csv(\"C:\\\\Users\\\\vivsw\\\\Downloads\\\\disaster_tweets_data.csv\",encoding='latin1')\n",
    "print(\"Shape of the dataframe: \",df.shape)\n",
    "df.isna().sum()\n",
    "df.head()"
   ]
  },
  {
   "cell_type": "code",
   "execution_count": 2,
   "id": "15055446",
   "metadata": {},
   "outputs": [],
   "source": [
    "import nltk\n",
    "import re\n",
    "from nltk import word_tokenize\n",
    "from nltk.corpus import stopwords\n",
    "from nltk.stem import PorterStemmer, LancasterStemmer, WordNetLemmatizer\n",
    "from sklearn.feature_extraction.text import CountVectorizer\n",
    "stopwords_nltk = nltk.corpus.stopwords\n",
    "stop_words = stopwords_nltk.words('english')\n",
    "stop_words[:5]\n",
    "bow_counts = CountVectorizer(\n",
    "    tokenizer=word_tokenize,\n",
    "    stop_words=stop_words, #English Stopwords\n",
    "    ngram_range=(1, 1) #analysis of one word\n",
    ")"
   ]
  },
  {
   "cell_type": "code",
   "execution_count": 3,
   "id": "45773238",
   "metadata": {},
   "outputs": [],
   "source": [
    "def data_process(text):\n",
    "    text = text.lower()\n",
    "    text = re.sub(r\"https\\S+|www\\S+https\\S+\", '',text, flags=re.MULTILINE)\n",
    "    text = re.sub(r'\\@w+|\\#','',text)\n",
    "    text = re.sub(r'[^\\w\\s]','',text)\n",
    "    text_tokens = word_tokenize(text)\n",
    "    filtered_text = [w for w in text_tokens if not w in stop_words]\n",
    "    return \" \".join(filtered_text)"
   ]
  },
  {
   "cell_type": "code",
   "execution_count": 4,
   "id": "5a4a7521",
   "metadata": {},
   "outputs": [],
   "source": [
    "df.tweets=df['tweets'].apply(data_process)"
   ]
  },
  {
   "cell_type": "code",
   "execution_count": 5,
   "id": "d68b2a00",
   "metadata": {},
   "outputs": [],
   "source": [
    "df=df.drop_duplicates('tweets')"
   ]
  },
  {
   "cell_type": "code",
   "execution_count": 6,
   "id": "478eff73",
   "metadata": {},
   "outputs": [
    {
     "data": {
      "text/html": [
       "<div>\n",
       "<style scoped>\n",
       "    .dataframe tbody tr th:only-of-type {\n",
       "        vertical-align: middle;\n",
       "    }\n",
       "\n",
       "    .dataframe tbody tr th {\n",
       "        vertical-align: top;\n",
       "    }\n",
       "\n",
       "    .dataframe thead th {\n",
       "        text-align: right;\n",
       "    }\n",
       "</style>\n",
       "<table border=\"1\" class=\"dataframe\">\n",
       "  <thead>\n",
       "    <tr style=\"text-align: right;\">\n",
       "      <th></th>\n",
       "      <th>tweets</th>\n",
       "      <th>target</th>\n",
       "    </tr>\n",
       "  </thead>\n",
       "  <tbody>\n",
       "    <tr>\n",
       "      <th>0</th>\n",
       "      <td>deeds reason earthquake may allah forgive us</td>\n",
       "      <td>1</td>\n",
       "    </tr>\n",
       "    <tr>\n",
       "      <th>1</th>\n",
       "      <td>forest fire near la ronge sask canada</td>\n",
       "      <td>1</td>\n",
       "    </tr>\n",
       "    <tr>\n",
       "      <th>2</th>\n",
       "      <td>residents asked shelter place notified officer...</td>\n",
       "      <td>1</td>\n",
       "    </tr>\n",
       "    <tr>\n",
       "      <th>3</th>\n",
       "      <td>13000 people receive wildfires evacuation orde...</td>\n",
       "      <td>1</td>\n",
       "    </tr>\n",
       "    <tr>\n",
       "      <th>4</th>\n",
       "      <td>got sent photo ruby alaska smoke wildfires pou...</td>\n",
       "      <td>1</td>\n",
       "    </tr>\n",
       "  </tbody>\n",
       "</table>\n",
       "</div>"
      ],
      "text/plain": [
       "                                              tweets  target\n",
       "0       deeds reason earthquake may allah forgive us       1\n",
       "1              forest fire near la ronge sask canada       1\n",
       "2  residents asked shelter place notified officer...       1\n",
       "3  13000 people receive wildfires evacuation orde...       1\n",
       "4  got sent photo ruby alaska smoke wildfires pou...       1"
      ]
     },
     "execution_count": 6,
     "metadata": {},
     "output_type": "execute_result"
    }
   ],
   "source": [
    "df.head()"
   ]
  },
  {
   "cell_type": "code",
   "execution_count": 7,
   "id": "d7261f27",
   "metadata": {},
   "outputs": [
    {
     "data": {
      "text/html": [
       "<div>\n",
       "<style scoped>\n",
       "    .dataframe tbody tr th:only-of-type {\n",
       "        vertical-align: middle;\n",
       "    }\n",
       "\n",
       "    .dataframe tbody tr th {\n",
       "        vertical-align: top;\n",
       "    }\n",
       "\n",
       "    .dataframe thead th {\n",
       "        text-align: right;\n",
       "    }\n",
       "</style>\n",
       "<table border=\"1\" class=\"dataframe\">\n",
       "  <thead>\n",
       "    <tr style=\"text-align: right;\">\n",
       "      <th></th>\n",
       "      <th>tweets</th>\n",
       "      <th>target</th>\n",
       "    </tr>\n",
       "  </thead>\n",
       "  <tbody>\n",
       "    <tr>\n",
       "      <th>0</th>\n",
       "      <td>deeds reason earthquake may allah forgive us</td>\n",
       "      <td>1</td>\n",
       "    </tr>\n",
       "    <tr>\n",
       "      <th>1</th>\n",
       "      <td>forest fire near la ronge sask canada</td>\n",
       "      <td>1</td>\n",
       "    </tr>\n",
       "    <tr>\n",
       "      <th>2</th>\n",
       "      <td>residents asked shelter place notified officer...</td>\n",
       "      <td>1</td>\n",
       "    </tr>\n",
       "    <tr>\n",
       "      <th>3</th>\n",
       "      <td>13000 people receive wildfires evacuation orde...</td>\n",
       "      <td>1</td>\n",
       "    </tr>\n",
       "    <tr>\n",
       "      <th>4</th>\n",
       "      <td>got sent photo ruby alaska smoke wildfires pou...</td>\n",
       "      <td>1</td>\n",
       "    </tr>\n",
       "    <tr>\n",
       "      <th>...</th>\n",
       "      <td>...</td>\n",
       "      <td>...</td>\n",
       "    </tr>\n",
       "    <tr>\n",
       "      <th>7603</th>\n",
       "      <td>officials say quarantine place alabama home po...</td>\n",
       "      <td>1</td>\n",
       "    </tr>\n",
       "    <tr>\n",
       "      <th>7605</th>\n",
       "      <td>flip side im walmart bomb everyone evacuate st...</td>\n",
       "      <td>1</td>\n",
       "    </tr>\n",
       "    <tr>\n",
       "      <th>7606</th>\n",
       "      <td>suicide bomber kills 15 saudi security site mo...</td>\n",
       "      <td>1</td>\n",
       "    </tr>\n",
       "    <tr>\n",
       "      <th>7608</th>\n",
       "      <td>two giant cranes holding bridge collapse nearb...</td>\n",
       "      <td>1</td>\n",
       "    </tr>\n",
       "    <tr>\n",
       "      <th>7612</th>\n",
       "      <td>latest homes razed northern california wildfir...</td>\n",
       "      <td>1</td>\n",
       "    </tr>\n",
       "  </tbody>\n",
       "</table>\n",
       "<p>7480 rows × 2 columns</p>\n",
       "</div>"
      ],
      "text/plain": [
       "                                                 tweets  target\n",
       "0          deeds reason earthquake may allah forgive us       1\n",
       "1                 forest fire near la ronge sask canada       1\n",
       "2     residents asked shelter place notified officer...       1\n",
       "3     13000 people receive wildfires evacuation orde...       1\n",
       "4     got sent photo ruby alaska smoke wildfires pou...       1\n",
       "...                                                 ...     ...\n",
       "7603  officials say quarantine place alabama home po...       1\n",
       "7605  flip side im walmart bomb everyone evacuate st...       1\n",
       "7606  suicide bomber kills 15 saudi security site mo...       1\n",
       "7608  two giant cranes holding bridge collapse nearb...       1\n",
       "7612  latest homes razed northern california wildfir...       1\n",
       "\n",
       "[7480 rows x 2 columns]"
      ]
     },
     "execution_count": 7,
     "metadata": {},
     "output_type": "execute_result"
    }
   ],
   "source": [
    "df.dropna()"
   ]
  },
  {
   "cell_type": "code",
   "execution_count": 8,
   "id": "00b69062",
   "metadata": {},
   "outputs": [],
   "source": [
    "from nltk.stem import PorterStemmer\n",
    "stemmer = PorterStemmer()\n",
    "def stemming(data):\n",
    "    if isinstance(data, str) and data.strip() != \"\":\n",
    "        words = word_tokenize(data)\n",
    "        text = [stemmer.stem(word) for word in words]\n",
    "        return \" \".join(text)\n",
    "    else:\n",
    "        return \"\""
   ]
  },
  {
   "cell_type": "code",
   "execution_count": 9,
   "id": "1897acb8",
   "metadata": {
    "scrolled": false
   },
   "outputs": [],
   "source": [
    "df['tweets'] = df['tweets'].apply(stemming)"
   ]
  },
  {
   "cell_type": "code",
   "execution_count": 10,
   "id": "a3eb0d73",
   "metadata": {},
   "outputs": [
    {
     "data": {
      "text/html": [
       "<div>\n",
       "<style scoped>\n",
       "    .dataframe tbody tr th:only-of-type {\n",
       "        vertical-align: middle;\n",
       "    }\n",
       "\n",
       "    .dataframe tbody tr th {\n",
       "        vertical-align: top;\n",
       "    }\n",
       "\n",
       "    .dataframe thead th {\n",
       "        text-align: right;\n",
       "    }\n",
       "</style>\n",
       "<table border=\"1\" class=\"dataframe\">\n",
       "  <thead>\n",
       "    <tr style=\"text-align: right;\">\n",
       "      <th></th>\n",
       "      <th>tweets</th>\n",
       "      <th>target</th>\n",
       "    </tr>\n",
       "  </thead>\n",
       "  <tbody>\n",
       "    <tr>\n",
       "      <th>0</th>\n",
       "      <td>deed reason earthquak may allah forgiv us</td>\n",
       "      <td>1</td>\n",
       "    </tr>\n",
       "    <tr>\n",
       "      <th>1</th>\n",
       "      <td>forest fire near la rong sask canada</td>\n",
       "      <td>1</td>\n",
       "    </tr>\n",
       "    <tr>\n",
       "      <th>2</th>\n",
       "      <td>resid ask shelter place notifi offic evacu she...</td>\n",
       "      <td>1</td>\n",
       "    </tr>\n",
       "    <tr>\n",
       "      <th>3</th>\n",
       "      <td>13000 peopl receiv wildfir evacu order california</td>\n",
       "      <td>1</td>\n",
       "    </tr>\n",
       "    <tr>\n",
       "      <th>4</th>\n",
       "      <td>got sent photo rubi alaska smoke wildfir pour ...</td>\n",
       "      <td>1</td>\n",
       "    </tr>\n",
       "  </tbody>\n",
       "</table>\n",
       "</div>"
      ],
      "text/plain": [
       "                                              tweets  target\n",
       "0          deed reason earthquak may allah forgiv us       1\n",
       "1               forest fire near la rong sask canada       1\n",
       "2  resid ask shelter place notifi offic evacu she...       1\n",
       "3  13000 peopl receiv wildfir evacu order california       1\n",
       "4  got sent photo rubi alaska smoke wildfir pour ...       1"
      ]
     },
     "execution_count": 10,
     "metadata": {},
     "output_type": "execute_result"
    }
   ],
   "source": [
    "df.head()"
   ]
  },
  {
   "cell_type": "code",
   "execution_count": 11,
   "id": "e629f0d8",
   "metadata": {},
   "outputs": [
    {
     "data": {
      "text/plain": [
       "<Axes: xlabel='target', ylabel='count'>"
      ]
     },
     "execution_count": 11,
     "metadata": {},
     "output_type": "execute_result"
    },
    {
     "data": {
      "image/png": "[encoded data removed]",
      "text/plain": [
       "<Figure size 500x500 with 1 Axes>"
      ]
     },
     "metadata": {},
     "output_type": "display_data"
    }
   ],
   "source": [
    "fig = plt.figure(figsize=(5,5))\n",
    "sns.countplot(x='target', data = df)"
   ]
  },
  {
   "cell_type": "code",
   "execution_count": 12,
   "id": "5b4b7a9d",
   "metadata": {},
   "outputs": [
    {
     "data": {
      "text/plain": [
       "tweets    object\n",
       "target     int64\n",
       "dtype: object"
      ]
     },
     "execution_count": 12,
     "metadata": {},
     "output_type": "execute_result"
    }
   ],
   "source": [
    "df.dtypes"
   ]
  },
  {
   "cell_type": "code",
   "execution_count": 13,
   "id": "d69b9127",
   "metadata": {},
   "outputs": [
    {
     "data": {
      "text/html": [
       "<div>\n",
       "<style scoped>\n",
       "    .dataframe tbody tr th:only-of-type {\n",
       "        vertical-align: middle;\n",
       "    }\n",
       "\n",
       "    .dataframe tbody tr th {\n",
       "        vertical-align: top;\n",
       "    }\n",
       "\n",
       "    .dataframe thead th {\n",
       "        text-align: right;\n",
       "    }\n",
       "</style>\n",
       "<table border=\"1\" class=\"dataframe\">\n",
       "  <thead>\n",
       "    <tr style=\"text-align: right;\">\n",
       "      <th></th>\n",
       "      <th>tweets</th>\n",
       "      <th>target</th>\n",
       "    </tr>\n",
       "  </thead>\n",
       "  <tbody>\n",
       "    <tr>\n",
       "      <th>0</th>\n",
       "      <td>deed reason earthquak may allah forgiv us</td>\n",
       "      <td>1</td>\n",
       "    </tr>\n",
       "    <tr>\n",
       "      <th>1</th>\n",
       "      <td>forest fire near la rong sask canada</td>\n",
       "      <td>1</td>\n",
       "    </tr>\n",
       "    <tr>\n",
       "      <th>2</th>\n",
       "      <td>resid ask shelter place notifi offic evacu she...</td>\n",
       "      <td>1</td>\n",
       "    </tr>\n",
       "    <tr>\n",
       "      <th>3</th>\n",
       "      <td>13000 peopl receiv wildfir evacu order california</td>\n",
       "      <td>1</td>\n",
       "    </tr>\n",
       "    <tr>\n",
       "      <th>4</th>\n",
       "      <td>got sent photo rubi alaska smoke wildfir pour ...</td>\n",
       "      <td>1</td>\n",
       "    </tr>\n",
       "  </tbody>\n",
       "</table>\n",
       "</div>"
      ],
      "text/plain": [
       "                                              tweets  target\n",
       "0          deed reason earthquak may allah forgiv us       1\n",
       "1               forest fire near la rong sask canada       1\n",
       "2  resid ask shelter place notifi offic evacu she...       1\n",
       "3  13000 peopl receiv wildfir evacu order california       1\n",
       "4  got sent photo rubi alaska smoke wildfir pour ...       1"
      ]
     },
     "execution_count": 13,
     "metadata": {},
     "output_type": "execute_result"
    }
   ],
   "source": [
    "pos_tweets = df[df.target == 1]\n",
    "pos_tweets.head()"
   ]
  },
  {
   "cell_type": "code",
   "execution_count": 14,
   "id": "221df221",
   "metadata": {},
   "outputs": [
    {
     "data": {
      "text/html": [
       "<div>\n",
       "<style scoped>\n",
       "    .dataframe tbody tr th:only-of-type {\n",
       "        vertical-align: middle;\n",
       "    }\n",
       "\n",
       "    .dataframe tbody tr th {\n",
       "        vertical-align: top;\n",
       "    }\n",
       "\n",
       "    .dataframe thead th {\n",
       "        text-align: right;\n",
       "    }\n",
       "</style>\n",
       "<table border=\"1\" class=\"dataframe\">\n",
       "  <thead>\n",
       "    <tr style=\"text-align: right;\">\n",
       "      <th></th>\n",
       "      <th>tweets</th>\n",
       "      <th>target</th>\n",
       "    </tr>\n",
       "  </thead>\n",
       "  <tbody>\n",
       "    <tr>\n",
       "      <th>15</th>\n",
       "      <td>what man</td>\n",
       "      <td>0</td>\n",
       "    </tr>\n",
       "    <tr>\n",
       "      <th>16</th>\n",
       "      <td>love fruit</td>\n",
       "      <td>0</td>\n",
       "    </tr>\n",
       "    <tr>\n",
       "      <th>17</th>\n",
       "      <td>summer love</td>\n",
       "      <td>0</td>\n",
       "    </tr>\n",
       "    <tr>\n",
       "      <th>18</th>\n",
       "      <td>car fast</td>\n",
       "      <td>0</td>\n",
       "    </tr>\n",
       "    <tr>\n",
       "      <th>19</th>\n",
       "      <td>goooooooaaaaaal</td>\n",
       "      <td>0</td>\n",
       "    </tr>\n",
       "  </tbody>\n",
       "</table>\n",
       "</div>"
      ],
      "text/plain": [
       "             tweets  target\n",
       "15         what man       0\n",
       "16       love fruit       0\n",
       "17      summer love       0\n",
       "18         car fast       0\n",
       "19  goooooooaaaaaal       0"
      ]
     },
     "execution_count": 14,
     "metadata": {},
     "output_type": "execute_result"
    }
   ],
   "source": [
    "neg_tweets = df[df.target == 0]\n",
    "neg_tweets.head()"
   ]
  },
  {
   "cell_type": "code",
   "execution_count": 15,
   "id": "c7c2b14b",
   "metadata": {},
   "outputs": [],
   "source": [
    "vect = CountVectorizer(ngram_range=(1,2)).fit(df['tweets'])"
   ]
  },
  {
   "cell_type": "code",
   "execution_count": 16,
   "id": "e9c844ee",
   "metadata": {},
   "outputs": [
    {
     "name": "stdout",
     "output_type": "stream",
     "text": [
      "Number of features: 70797\n",
      "\n",
      "First 20 features:\n",
      " ['0011' '0011 utc' '001116' '001116 utc20150805' '0025' '0025 updat'\n",
      " '005225' '005225 utc20150805' '010156' '010156 okinawa' '010217'\n",
      " '010217 okinawa' '0104' '0104 utc' '0104 utc5km' '010401'\n",
      " '010401 utc20150805' '0106' '0106 bmw' '0111']\n"
     ]
    }
   ],
   "source": [
    "feature_names = vect.get_feature_names_out()\n",
    "print(\"Number of features: {}\\n\".format(len(feature_names)))\n",
    "print(\"First 20 features:\\n {}\".format(feature_names[:20]))"
   ]
  },
  {
   "cell_type": "code",
   "execution_count": 17,
   "id": "9ef918df",
   "metadata": {},
   "outputs": [],
   "source": [
    "X = df['tweets']\n",
    "Y = df['target']\n",
    "X = vect.transform(X)"
   ]
  },
  {
   "cell_type": "code",
   "execution_count": 18,
   "id": "168026b1",
   "metadata": {},
   "outputs": [],
   "source": [
    "from sklearn.model_selection import train_test_split, GridSearchCV, StratifiedKFold"
   ]
  },
  {
   "cell_type": "code",
   "execution_count": 19,
   "id": "ccc9f672",
   "metadata": {},
   "outputs": [],
   "source": [
    "x_train, x_test, y_train, y_test = train_test_split(X, Y, test_size=0.25, random_state=42)"
   ]
  },
  {
   "cell_type": "code",
   "execution_count": 20,
   "id": "d2ac45c3",
   "metadata": {},
   "outputs": [],
   "source": [
    "from sklearn.metrics import accuracy_score, precision_score, f1_score, recall_score, classification_report, confusion_matrix, ConfusionMatrixDisplay\n",
    "accuracy={}"
   ]
  },
  {
   "cell_type": "code",
   "execution_count": 21,
   "id": "9c9278bb",
   "metadata": {},
   "outputs": [],
   "source": [
    "def eval_model(ytest,ypred):\n",
    "    cm=confusion_matrix(ytest,ypred)\n",
    "    print(cm)\n",
    "    print(classification_report(ytest,ypred))\n",
    "    \n",
    "def mscore(model):\n",
    "    print('Train Score', model.score(x_train,y_train))\n",
    "    print('Test Score', model.score(x_test,y_test))"
   ]
  },
  {
   "cell_type": "markdown",
   "id": "f1269a3f",
   "metadata": {},
   "source": [
    "# Multinomial Naïve Bayes Classification"
   ]
  },
  {
   "cell_type": "code",
   "execution_count": 22,
   "id": "3474a404",
   "metadata": {},
   "outputs": [
    {
     "name": "stdout",
     "output_type": "stream",
     "text": [
      "Best :0.791800 using {'alpha': 1.0, 'fit_prior': True}\n"
     ]
    }
   ],
   "source": [
    "from sklearn.naive_bayes import MultinomialNB\n",
    "mnb=MultinomialNB()\n",
    "parameters={\n",
    "    'alpha': [0.1, 0.5, 1.0],\n",
    "    'fit_prior': [True, False]\n",
    "}\n",
    "cv = StratifiedKFold(n_splits=5, shuffle=True, random_state=42)\n",
    "mnb_model=GridSearchCV(mnb,param_grid=parameters,cv=cv)\n",
    "mnb_model.fit(x_train,y_train)\n",
    "print(\"Best :%f using %s\" %(mnb_model.best_score_,mnb_model.best_params_))"
   ]
  },
  {
   "cell_type": "code",
   "execution_count": 23,
   "id": "0c20c24d",
   "metadata": {},
   "outputs": [
    {
     "name": "stdout",
     "output_type": "stream",
     "text": [
      "Accuracy of mnb is 0.7946524064171123\n",
      "Precision of mnb is 0.7291925465838509\n",
      "Recall of mnb is 0.7795484727755644\n",
      "F1 score of mnb is 0.7535301668806161\n",
      "[[899 166]\n",
      " [218 587]]\n",
      "              precision    recall  f1-score   support\n",
      "\n",
      "           0       0.80      0.84      0.82      1065\n",
      "           1       0.78      0.73      0.75       805\n",
      "\n",
      "    accuracy                           0.79      1870\n",
      "   macro avg       0.79      0.79      0.79      1870\n",
      "weighted avg       0.79      0.79      0.79      1870\n",
      "\n",
      "Train Score 0.9743315508021391\n",
      "Test Score 0.7946524064171123\n"
     ]
    }
   ],
   "source": [
    "best_mnb= mnb_model.best_estimator_\n",
    "ypred_mnb=best_mnb.predict(x_test)\n",
    "mnb_acc=accuracy_score(ypred_mnb,y_test)\n",
    "print(\"Accuracy of mnb is\", mnb_acc)\n",
    "accuracy['MNB']=mnb_acc\n",
    "mnb_pre=precision_score(ypred_mnb,y_test)\n",
    "print(\"Precision of mnb is\", mnb_pre)\n",
    "mnb_recall=recall_score(ypred_mnb,y_test)\n",
    "print(\"Recall of mnb is\", mnb_recall)\n",
    "mnb_f1=f1_score(ypred_mnb,y_test)\n",
    "print(\"F1 score of mnb is\", mnb_f1)\n",
    "eval_model(y_test,ypred_mnb)\n",
    "mscore(best_mnb)"
   ]
  },
  {
   "cell_type": "markdown",
   "id": "95ed5cf5",
   "metadata": {},
   "source": [
    "# Logistic Regression"
   ]
  },
  {
   "cell_type": "code",
   "execution_count": 24,
   "id": "8376cd8d",
   "metadata": {
    "scrolled": false
   },
   "outputs": [
    {
     "name": "stdout",
     "output_type": "stream",
     "text": [
      "Best :0.801248 using {'C': 1.0, 'penalty': 'l2', 'solver': 'newton-cg'}\n"
     ]
    }
   ],
   "source": [
    "from sklearn.linear_model import LogisticRegression\n",
    "lr=LogisticRegression(max_iter=1000, tol=0.0001)\n",
    "parameters={\n",
    "    'penalty': ['l2'],\n",
    "    'C': [100, 10, 1.0, 0.1, 0.01],\n",
    "    'solver': ['newton-cg', 'lbfgs', 'liblinear']\n",
    "}\n",
    "cv = StratifiedKFold(n_splits=5, shuffle=True, random_state=42)\n",
    "lr_model=GridSearchCV(lr,param_grid=parameters,cv=cv)\n",
    "lr_model.fit(x_train,y_train)\n",
    "print(\"Best :%f using %s\" %(lr_model.best_score_,lr_model.best_params_))"
   ]
  },
  {
   "cell_type": "code",
   "execution_count": 25,
   "id": "6d61d938",
   "metadata": {},
   "outputs": [
    {
     "name": "stdout",
     "output_type": "stream",
     "text": [
      "Accuracy of logsitic regression is 0.7962566844919786\n",
      "Precision of logsitic regression is 0.6559006211180124\n",
      "Recall of logsitic regression is 0.8354430379746836\n",
      "F1 score of logsitic regression is 0.7348643006263047\n",
      "[[961 104]\n",
      " [277 528]]\n",
      "              precision    recall  f1-score   support\n",
      "\n",
      "           0       0.78      0.90      0.83      1065\n",
      "           1       0.84      0.66      0.73       805\n",
      "\n",
      "    accuracy                           0.80      1870\n",
      "   macro avg       0.81      0.78      0.78      1870\n",
      "weighted avg       0.80      0.80      0.79      1870\n",
      "\n",
      "Train Score 0.9957219251336898\n",
      "Test Score 0.7962566844919786\n"
     ]
    }
   ],
   "source": [
    "best_lr= lr_model.best_estimator_\n",
    "ypred_lr=best_lr.predict(x_test)\n",
    "lr_acc=accuracy_score(ypred_lr,y_test)\n",
    "print(\"Accuracy of logsitic regression is\", lr_acc)\n",
    "accuracy['Logistic Regression']=lr_acc\n",
    "lr_pre=precision_score(ypred_lr,y_test)\n",
    "print(\"Precision of logsitic regression is\", lr_pre)\n",
    "lr_recall=recall_score(ypred_lr,y_test)\n",
    "print(\"Recall of logsitic regression is\", lr_recall)\n",
    "lr_f1=f1_score(ypred_lr,y_test)\n",
    "print(\"F1 score of logsitic regression is\", lr_f1)\n",
    "eval_model(y_test,ypred_lr)\n",
    "mscore(best_lr)"
   ]
  },
  {
   "cell_type": "markdown",
   "id": "e7d07e8c",
   "metadata": {},
   "source": [
    "# KNN Classification"
   ]
  },
  {
   "cell_type": "code",
   "execution_count": 26,
   "id": "0d695b3b",
   "metadata": {
    "scrolled": false
   },
   "outputs": [
    {
     "name": "stdout",
     "output_type": "stream",
     "text": [
      "Best :0.772193 using {'metric': 'cosine', 'n_neighbors': 9, 'weights': 'distance'}\n"
     ]
    }
   ],
   "source": [
    "from sklearn.neighbors import KNeighborsClassifier\n",
    "knn=KNeighborsClassifier()\n",
    "parameters = {\n",
    "    'n_neighbors': [3, 5, 7, 9],  \n",
    "    'weights': ['uniform', 'distance'],  \n",
    "    'metric': ['euclidean', 'manhattan','cosine']\n",
    "}\n",
    "\n",
    "cv = StratifiedKFold(n_splits=5, shuffle=True, random_state=42)\n",
    "knn_model=GridSearchCV(knn,param_grid=parameters,cv=cv)\n",
    "knn_model.fit(x_train,y_train)\n",
    "print(\"Best :%f using %s\" %(knn_model.best_score_,knn_model.best_params_))"
   ]
  },
  {
   "cell_type": "code",
   "execution_count": 27,
   "id": "a9b2083a",
   "metadata": {},
   "outputs": [
    {
     "name": "stdout",
     "output_type": "stream",
     "text": [
      "Accuracy of KNN is 0.7695187165775401\n",
      "Precision of KNN is 0.622360248447205\n",
      "Recall of KNN is 0.7977707006369427\n",
      "F1 score of KNN is 0.6992323796231682\n",
      "[[938 127]\n",
      " [304 501]]\n",
      "              precision    recall  f1-score   support\n",
      "\n",
      "           0       0.76      0.88      0.81      1065\n",
      "           1       0.80      0.62      0.70       805\n",
      "\n",
      "    accuracy                           0.77      1870\n",
      "   macro avg       0.78      0.75      0.76      1870\n",
      "weighted avg       0.77      0.77      0.76      1870\n",
      "\n",
      "Train Score 0.9998217468805705\n",
      "Test Score 0.7695187165775401\n"
     ]
    }
   ],
   "source": [
    "best_knn= knn_model.best_estimator_\n",
    "ypred_knn=best_knn.predict(x_test)\n",
    "knn_acc=accuracy_score(ypred_knn,y_test)\n",
    "print(\"Accuracy of KNN is\", knn_acc)\n",
    "accuracy['KNN']=knn_acc\n",
    "knn_pre=precision_score(ypred_knn,y_test)\n",
    "print(\"Precision of KNN is\", knn_pre)\n",
    "knn_recall=recall_score(ypred_knn,y_test)\n",
    "print(\"Recall of KNN is\", knn_recall)\n",
    "knn_f1=f1_score(ypred_knn,y_test)\n",
    "print(\"F1 score of KNN is\", knn_f1)\n",
    "eval_model(y_test,ypred_knn)\n",
    "mscore(best_knn)"
   ]
  },
  {
   "cell_type": "markdown",
   "id": "7e2f6218",
   "metadata": {},
   "source": [
    "# SVM"
   ]
  },
  {
   "cell_type": "code",
   "execution_count": 28,
   "id": "f754b4d8",
   "metadata": {},
   "outputs": [
    {
     "name": "stdout",
     "output_type": "stream",
     "text": [
      "Best :0.801961 using {'C': 1, 'gamma': 0.1, 'kernel': 'sigmoid'}\n"
     ]
    }
   ],
   "source": [
    "from sklearn.svm import SVC\n",
    "svc=SVC()\n",
    "parameters={ 'kernel':['linear','rbf','sigmoid'],\n",
    "            'C':[0.1, 0.5, 1, 5],\n",
    "            'gamma':[0.0001, 0.001, 0.01, 0.1],\n",
    "           }\n",
    "cv = StratifiedKFold(n_splits=5, shuffle=True, random_state=42)\n",
    "clf=GridSearchCV(svc,param_grid=parameters,cv=cv)\n",
    "clf.fit(x_train,y_train)\n",
    "print(\"Best :%f using %s\" %(clf.best_score_,clf.best_params_))"
   ]
  },
  {
   "cell_type": "code",
   "execution_count": 29,
   "id": "57f00ae0",
   "metadata": {},
   "outputs": [
    {
     "name": "stdout",
     "output_type": "stream",
     "text": [
      "Accuracy of svm is 0.7957219251336899\n",
      "Precision of svm is 0.6447204968944099\n",
      "Recall of svm is 0.8439024390243902\n",
      "F1 score of svm is 0.7309859154929578\n",
      "[[969  96]\n",
      " [286 519]]\n",
      "              precision    recall  f1-score   support\n",
      "\n",
      "           0       0.77      0.91      0.84      1065\n",
      "           1       0.84      0.64      0.73       805\n",
      "\n",
      "    accuracy                           0.80      1870\n",
      "   macro avg       0.81      0.78      0.78      1870\n",
      "weighted avg       0.80      0.80      0.79      1870\n",
      "\n",
      "Train Score 0.8918003565062389\n",
      "Test Score 0.7957219251336899\n"
     ]
    }
   ],
   "source": [
    "best_svc= clf.best_estimator_\n",
    "ypred_svc=best_svc.predict(x_test)\n",
    "svc_acc=accuracy_score(ypred_svc,y_test)\n",
    "print(\"Accuracy of svm is\", svc_acc)\n",
    "accuracy['SVM']=svc_acc\n",
    "svc_pre=precision_score(ypred_svc,y_test)\n",
    "print(\"Precision of svm is\", svc_pre)\n",
    "svc_recall=recall_score(ypred_svc,y_test)\n",
    "print(\"Recall of svm is\", svc_recall)\n",
    "svc_f1=f1_score(ypred_svc,y_test)\n",
    "print(\"F1 score of svm is\", svc_f1)\n",
    "eval_model(y_test,ypred_svc)\n",
    "mscore(best_svc)"
   ]
  },
  {
   "cell_type": "code",
   "execution_count": 30,
   "id": "c09bb6dc",
   "metadata": {
    "scrolled": false
   },
   "outputs": [
    {
     "data": {
      "image/png": "[encoded data removed]",
      "text/plain": [
       "<Figure size 1000x500 with 1 Axes>"
      ]
     },
     "metadata": {},
     "output_type": "display_data"
    }
   ],
   "source": [
    "model = list(accuracy.keys())\n",
    "acc = list(accuracy.values())\n",
    "  \n",
    "fig = plt.figure(figsize = (10, 5))\n",
    " \n",
    "# creating the bar plot\n",
    "plt.plot(model, acc, color ='maroon',marker='o')\n",
    " \n",
    "plt.xlabel(\"Classification Model\")\n",
    "plt.ylabel(\"Accuracy\")\n",
    "plt.title(\"Accuracy of different classification models for tweet sentiment analysis\")\n",
    "plt.show()"
   ]
  },
  {
   "cell_type": "code",
   "execution_count": 31,
   "id": "481a16d2",
   "metadata": {},
   "outputs": [
    {
     "name": "stdout",
     "output_type": "stream",
     "text": [
      "Most accurate model for given data is Logistic Regression with accuracy = 0.7962566844919786\n"
     ]
    }
   ],
   "source": [
    "print(\"Most accurate model for given data is\", model[acc.index(max(acc))], \"with accuracy =\",max(acc))"
   ]
  },
  {
   "cell_type": "markdown",
   "id": "2e3b8cf5",
   "metadata": {},
   "source": [
    "Made by Vivswaan Singh"
   ]
  },
  {
   "cell_type": "code",
   "execution_count": null,
   "id": "0f095996",
   "metadata": {},
   "outputs": [],
   "source": []
  }
 ],
 "metadata": {
  "kernelspec": {
   "display_name": "Python 3 (ipykernel)",
   "language": "python",
   "name": "python3"
  },
  "language_info": {
   "codemirror_mode": {
    "name": "ipython",
    "version": 3
   },
   "file_extension": ".py",
   "mimetype": "text/x-python",
   "name": "python",
   "nbconvert_exporter": "python",
   "pygments_lexer": "ipython3",
   "version": "3.10.9"
  }
 },
 "nbformat": 4,
 "nbformat_minor": 5
}
